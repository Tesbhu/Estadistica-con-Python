{
 "cells": [
  {
   "attachments": {},
   "cell_type": "markdown",
   "metadata": {},
   "source": [
    "# <center> Estadistísticas y distribuciones muestrales"
   ]
  },
  {
   "attachments": {},
   "cell_type": "markdown",
   "metadata": {},
   "source": [
    "## Temario\n",
    "\n",
    "1. Introducción\n",
    "\n",
    "2. Distribución de las estadísticas\n",
    "- 2.1. Distribución de la media muestral \n",
    "- 2.1. Distribución de la varianza muestral\n",
    "- 2.1. Distribución $F$ de Fisher y el cociente de varianzas muestrales\n",
    "- 2.4. Distribución $t$ de Student y algunas estadísticas relacionales\n",
    "\n",
    "3. Estadísticas de orden\n",
    "- 3.1. $r-$ésima estadistica de orden $(Y_r)$\n",
    "- 3.2. Distribución conjunta de las estadísticas de orden minima y máxima \n",
    "\n",
    "4. Estadísticas suficientes \n",
    "- 4.1. El concepto de suficiencia\n",
    "- 4.2. El teorema de factorización \n",
    "- 4.3 LA familia ex´pnencial \n",
    "- 4.4 Suficiencia minimal\n",
    "\n",
    "5. Completez\n",
    "\n",
    "6. Generalizaciones\n",
    "\n",
    "7. Estadísticas auxiliares "
   ]
  },
  {
   "cell_type": "code",
   "execution_count": null,
   "metadata": {},
   "outputs": [],
   "source": []
  }
 ],
 "metadata": {
  "kernelspec": {
   "display_name": "Python 3",
   "language": "python",
   "name": "python3"
  },
  "language_info": {
   "name": "python",
   "version": "3.10.4"
  },
  "orig_nbformat": 4
 },
 "nbformat": 4,
 "nbformat_minor": 2
}
