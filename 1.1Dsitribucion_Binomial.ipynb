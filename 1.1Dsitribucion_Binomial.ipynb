{
 "cells": [
  {
   "attachments": {},
   "cell_type": "markdown",
   "metadata": {},
   "source": [
    "# <center> Distribución Binomial"
   ]
  },
  {
   "attachments": {},
   "cell_type": "markdown",
   "metadata": {},
   "source": [
    "## Descripción de la distribución binomial:\n",
    "\n",
    "La distribución binomial es un modelo de probabilidad discreta que se utiliza para describir experimentos o eventos que cumplen con las siguientes características:\n",
    "\n",
    "1. El experimento consta de un número fijo de repeticiones, llamadas ensayos.\n",
    "2. Cada ensayo tiene dos resultados posibles: éxito o fracaso.\n",
    "3. La probabilidad de éxito en cada ensayo es constante.\n",
    "4. Los ensayos son independientes, lo que significa que el resultado de un ensayo no afecta el resultado de los demás ensayos.\n",
    "\n",
    "La distribución binomial se caracteriza por dos parámetros: el número de ensayos $(n)$ y la probabilidad de éxito en cada ensayo $(p)$. Se denota como $B(n, p)$.\n",
    "\n",
    "## Fórmula de la distribución binomial:\n",
    "\n",
    "La fórmula para calcular la probabilidad de obtener exactamente $k$ éxitos en $n$ ensayos es:\n",
    "\n",
    "$$  P(X = k) = \\binom{n}{k} \\cdot p^k \\cdot (1-p)^{n-k} $$\n",
    "\n",
    "donde:\n",
    "\n",
    "* $\\binom{n}{k}$ representa el coeficiente binomial, que se calcula como $ \\binom{n}{k} = \\dfrac{n!}{k!(n-k)!}$.\n",
    "* $p^k$ representa la probabilidad de obtener k éxitos.\n",
    "* $(1-p)^{n-k}$ representa la probabilidad de obtener $n-k$ fracasos.\n",
    "\n",
    "## Mediana y desviación estandar:\n",
    "\n",
    "La media $(\\mu)$ y la desviación estándar $(\\sigma)$ de una distribución binomial se pueden calcular de la siguiente manera:\n",
    "\n",
    "* Media: μ=n⋅p\n",
    "\n",
    "* Desviación estándar: σ= n⋅p⋅(1−p)\n",
    "​\n",
    "\n",
    "\n"
   ]
  },
  {
   "attachments": {},
   "cell_type": "markdown",
   "metadata": {},
   "source": [
    "## Ejemplos sencillos:\n",
    "\n",
    "1. Supongamos que lanzas un dado justo $10$ veces y deseas calcular la probabilidad de obtener exactamente $3$ veces el número $5$. Aquí, $n = 10$ (número de ensayos) y $p = 1/6$ (probabilidad de éxito, ya que hay $6$ posibles resultados en un dado justo). La fórmula de la distribución binomial se aplica de la siguiente manera:\n",
    "\n",
    "$$  P(X = 3) = \\binom{10}{3} \\cdot \\left(\\frac{1}{6}\\right)^3 \\cdot \\left(\\frac{5}{6}\\right)^7 $$\n",
    "\n",
    "2. Imagina que tienes una baraja de cartas y extraes 5 cartas al azar sin reemplazo. Quieres encontrar la probabilidad de obtener exactamente 2 reyes. Aquí, n = 5 (número de ensayos) y p = 4/52 (probabilidad de éxito, ya que hay 4 reyes en un mazo de 52 cartas). La fórmula de la distribución binomial se utiliza de la siguiente manera:\n",
    "\n",
    "$$P(X = 2) = \\binom{5}{2} \\cdot \\left(\\frac{4}{52}\\right)^2 \\cdot \\left(\\frac{48}{52}\\right)^3$$"
   ]
  },
  {
   "attachments": {},
   "cell_type": "markdown",
   "metadata": {},
   "source": [
    "Ahora usando python"
   ]
  },
  {
   "cell_type": "code",
   "execution_count": 1,
   "metadata": {},
   "outputs": [
    {
     "name": "stdout",
     "output_type": "stream",
     "text": [
      "La probabilidad de obtener exactamente 3 veces el número 5 en 10 lanzamientos de un dado justo es: 0.15504535957425192\n"
     ]
    }
   ],
   "source": [
    "def factorial(n):\n",
    "    if n == 0:\n",
    "        return 1\n",
    "    else:\n",
    "        return n * factorial(n-1)\n",
    "\n",
    "def binomial_probability(n, k, p):\n",
    "    coefficient = factorial(n) / (factorial(k) * factorial(n-k))\n",
    "    probability = coefficient * (p ** k) * ((1-p) ** (n-k))\n",
    "    return probability\n",
    "\n",
    "n = 10\n",
    "k = 3\n",
    "p = 1/6\n",
    "\n",
    "probability = binomial_probability(n, k, p)\n",
    "print(\"La probabilidad de obtener exactamente 3 veces el número 5 en 10 lanzamientos de un dado justo es:\", probability)"
   ]
  },
  {
   "attachments": {},
   "cell_type": "markdown",
   "metadata": {},
   "source": [
    "Se ha definido las formulas con las funciones factorial y la probabilidad binomial, solamente es escribir las matematicas, usemos las librerias ya implementadas en python que nos ahorran el trabajo.\n",
    "\n",
    "Para el ejemplo 2"
   ]
  },
  {
   "cell_type": "code",
   "execution_count": 2,
   "metadata": {},
   "outputs": [
    {
     "name": "stdout",
     "output_type": "stream",
     "text": [
      "La probabilidad de obtener exactamente 2 reyes al extraer 5 cartas de una baraja es: 0.04654006404645388\n"
     ]
    }
   ],
   "source": [
    "import scipy.stats as stats\n",
    "\n",
    "n = 5\n",
    "k = 2\n",
    "p = 4/52\n",
    "\n",
    "probability = stats.binom.pmf(k, n, p)\n",
    "print(\"La probabilidad de obtener exactamente 2 reyes al extraer 5 cartas de una baraja es:\", probability)\n"
   ]
  },
  {
   "attachments": {},
   "cell_type": "markdown",
   "metadata": {},
   "source": [
    "Para calcular la probabilidad de que un hombre tenga una mascota en una población de 100 hombres, utilizando la distribución binomial, necesitamos los siguientes datos:\n",
    "\n",
    "* Número total de ensayos (n): 100 (hombres en la población).\n",
    "* Número de ensayos exitosos (k): 10 (hombres que tienen mascota en la muestra de 30 personas).\n",
    "* Probabilidad de éxito en cada ensayo (p): 10/30 (proporción de hombres con mascota en la muestra de 30 personas).\n",
    "\n",
    "Aquí tienes un ejemplo de cómo calcular la probabilidad utilizando Python:"
   ]
  },
  {
   "cell_type": "code",
   "execution_count": 3,
   "metadata": {},
   "outputs": [
    {
     "name": "stdout",
     "output_type": "stream",
     "text": [
      "La probabilidad de que un hombre tenga una mascota en una población de 100 hombres es: 4.157947195312516e-08\n"
     ]
    }
   ],
   "source": [
    "import scipy.stats as stats\n",
    "\n",
    "n = 100\n",
    "k = 10\n",
    "p = 10/30\n",
    "\n",
    "probability = stats.binom.pmf(k, n, p)\n",
    "print(\"La probabilidad de que un hombre tenga una mascota en una población de 100 hombres es:\", probability)\n"
   ]
  },
  {
   "attachments": {},
   "cell_type": "markdown",
   "metadata": {},
   "source": [
    "En este ejemplo, se utiliza la función stats.binom.pmf de la librería scipy.stats para calcular la probabilidad utilizando la distribución binomial. La función toma como argumentos el número de ensayos exitosos (k), el número total de ensayos (n) y la probabilidad de éxito en cada ensayo (p).\n",
    "\n",
    "Ten en cuenta que este cálculo se basa en la muestra de 30 personas y asume que la proporción de hombres con mascota en la muestra se mantiene constante en la población de 100 hombres. Además, es importante destacar que este es solo un ejemplo simulado para ilustrar el cálculo utilizando la distribución binomial."
   ]
  },
  {
   "attachments": {},
   "cell_type": "markdown",
   "metadata": {},
   "source": []
  }
 ],
 "metadata": {
  "kernelspec": {
   "display_name": "Python 3",
   "language": "python",
   "name": "python3"
  },
  "language_info": {
   "codemirror_mode": {
    "name": "ipython",
    "version": 3
   },
   "file_extension": ".py",
   "mimetype": "text/x-python",
   "name": "python",
   "nbconvert_exporter": "python",
   "pygments_lexer": "ipython3",
   "version": "3.10.4"
  },
  "orig_nbformat": 4
 },
 "nbformat": 4,
 "nbformat_minor": 2
}
