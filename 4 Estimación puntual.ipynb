{
 "cells": [
  {
   "attachments": {},
   "cell_type": "markdown",
   "metadata": {},
   "source": [
    "# <center> Estimación puntual \n",
    "\n"
   ]
  },
  {
   "attachments": {},
   "cell_type": "markdown",
   "metadata": {},
   "source": [
    "## Temario \n",
    "\n",
    "1. Introducción\n",
    "2. Métodos de estimación \n",
    "- 2.1. Métodos de momentos \n",
    "- 2.2. Estimadores basados en verosimilitud\n",
    "- 2.3. Verosimilitud en el enfoque bayesiano \n",
    "- 2.4. Otros métodos de estimación\n",
    "\n",
    "3. Evaluación de estimadores\n",
    "- 3.1. Error cuadrático medio y estimadores insesgados\n",
    "- 3.2. Consistencia \n",
    "- 3.3. Funciones de pérdida y estimación \n",
    "\n",
    "4. Estimación insesgada\n",
    "- 4.1. LA propuesta de Cramer y Rao\n",
    "- Teoremas importantes\n",
    "\n",
    "5. Propiedades asintóticas de los estimadores\n"
   ]
  },
  {
   "cell_type": "code",
   "execution_count": null,
   "metadata": {},
   "outputs": [],
   "source": []
  }
 ],
 "metadata": {
  "language_info": {
   "name": "python"
  },
  "orig_nbformat": 4
 },
 "nbformat": 4,
 "nbformat_minor": 2
}
